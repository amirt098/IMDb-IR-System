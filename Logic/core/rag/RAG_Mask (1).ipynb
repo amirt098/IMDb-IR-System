{
  "cells": [
    {
      "cell_type": "markdown",
      "metadata": {
        "id": "8rcBnSWOC4iD"
      },
      "source": [
        "# RAG"
      ]
    },
    {
      "cell_type": "markdown",
      "metadata": {
        "id": "Bawzi6T5C4iF"
      },
      "source": [
        "## Requirements"
      ]
    },
    {
      "cell_type": "code",
      "execution_count": 1,
      "metadata": {
        "id": "D7qkZVjtPtCt"
      },
      "outputs": [],
      "source": [
        "%%capture\n",
        "!pip install transformers accelerate bitsandbytes langchain langchain-community sentence-transformers faiss-gpu pandas gdown"
      ]
    },
    {
      "cell_type": "markdown",
      "metadata": {
        "id": "rfDqhR3RC4iG"
      },
      "source": [
        "## Dataset"
      ]
    },
    {
      "cell_type": "code",
      "execution_count": 2,
      "metadata": {
        "colab": {
          "base_uri": "https://localhost:8080/"
        },
        "id": "KU3LtV3zPtCu",
        "outputId": "4290e291-bcc2-4be8-f930-a9d7b2983d45"
      },
      "outputs": [
        {
          "output_type": "stream",
          "name": "stdout",
          "text": [
            "Downloading...\n",
            "From (original): https://drive.google.com/uc?id=1Lq2zVJlN_B4kUAu4VafQ4jXMIQiAR9vI\n",
            "From (redirected): https://drive.google.com/uc?id=1Lq2zVJlN_B4kUAu4VafQ4jXMIQiAR9vI&confirm=t&uuid=c5356571-97e3-437c-95d8-5facad765e92\n",
            "To: /content/IMDB_crawled.json\n",
            "100% 292M/292M [00:02<00:00, 105MB/s]\n"
          ]
        }
      ],
      "source": [
        "!gdown --fuzzy https://drive.google.com/file/d/1Lq2zVJlN_B4kUAu4VafQ4jXMIQiAR9vI/view?usp=sharing"
      ]
    },
    {
      "cell_type": "markdown",
      "metadata": {
        "id": "OhsbOfp1C4iH"
      },
      "source": [
        "## Config"
      ]
    },
    {
      "cell_type": "code",
      "execution_count": 3,
      "metadata": {
        "id": "MUqmeYExPtCv"
      },
      "outputs": [],
      "source": [
        "class Config:\n",
        "    EMBEDDING_MODEL_NAME=\"thenlper/gte-base\"\n",
        "    LLM_MODEL_NAME=\"HuggingFaceH4/zephyr-7b-beta\"\n",
        "    K = 5 # top K retrieval"
      ]
    },
    {
      "cell_type": "markdown",
      "metadata": {
        "id": "Sg3tcY_zC4iI"
      },
      "source": [
        "## Preprocessing"
      ]
    },
    {
      "cell_type": "code",
      "execution_count": 4,
      "metadata": {
        "id": "sjdAj0mnPtCv"
      },
      "outputs": [],
      "source": [
        "import pandas as pd\n",
        "\n",
        "df = pd.read_json('IMDB_crawled.json')"
      ]
    },
    {
      "cell_type": "code",
      "source": [
        "df_top = df.head(5)\n",
        "print(df_top)"
      ],
      "metadata": {
        "colab": {
          "base_uri": "https://localhost:8080/"
        },
        "id": "CrooFXFkVTLz",
        "outputId": "b02de7b5-bd0a-433e-cb69-c08488ee2657"
      },
      "execution_count": 6,
      "outputs": [
        {
          "output_type": "stream",
          "name": "stdout",
          "text": [
            "          id                                              title  \\\n",
            "0  tt0071562                              The Godfather Part II   \n",
            "1  tt0120737  The Lord of the Rings: The Fellowship of the Ring   \n",
            "2  tt0110912                                       Pulp Fiction   \n",
            "3  tt0068646                                      The Godfather   \n",
            "4  tt0111161                           The Shawshank Redemption   \n",
            "\n",
            "                                  first_page_summary release_year   mpaa  \\\n",
            "0  The early life and career of Vito Corleone in ...         1974      R   \n",
            "1  A meek Hobbit from the Shire and eight compani...         2001  PG-13   \n",
            "2  The lives of two mob hitmen, a boxer, a gangst...         1994      R   \n",
            "3  The aging patriarch of an organized crime dyna...         1972      R   \n",
            "4  Over the course of several years, two convicts...         1994      R   \n",
            "\n",
            "                    budget gross_worldwide  rating               directors  \\\n",
            "0  $13,000,000 (estimated)     $47,962,683     9.0  [Francis Ford Coppola]   \n",
            "1  $93,000,000 (estimated)    $884,041,698     8.9         [Peter Jackson]   \n",
            "2   $8,000,000 (estimated)    $213,928,762     8.9     [Quentin Tarantino]   \n",
            "3   $6,000,000 (estimated)    $250,342,030     9.2  [Francis Ford Coppola]   \n",
            "4  $25,000,000 (estimated)     $28,904,232     9.3        [Frank Darabont]   \n",
            "\n",
            "                          writers  \\\n",
            "0                            None   \n",
            "1                            None   \n",
            "2                            None   \n",
            "3                            None   \n",
            "4  [Stephen King, Frank Darabont]   \n",
            "\n",
            "                                             stars  \\\n",
            "0       [Al Pacino, Robert De Niro, Robert Duvall]   \n",
            "1       [Elijah Wood, Ian McKellen, Orlando Bloom]   \n",
            "2  [John Travolta, Uma Thurman, Samuel L. Jackson]   \n",
            "3           [Marlon Brando, Al Pacino, James Caan]   \n",
            "4        [Tim Robbins, Morgan Freeman, Bob Gunton]   \n",
            "\n",
            "                                       related_links  \\\n",
            "0  [https://imdb.com/title/tt0068646/?ref_=tt_sim...   \n",
            "1  [https://imdb.com/title/tt0167261/?ref_=tt_sim...   \n",
            "2  [https://imdb.com/title/tt0137523/?ref_=tt_sim...   \n",
            "3  [https://imdb.com/title/tt0071562/?ref_=tt_sim...   \n",
            "4  [https://imdb.com/title/tt0468569/?ref_=tt_sim...   \n",
            "\n",
            "                                      languages           countries_of_origin  \\\n",
            "0  [English, Italian, Spanish, Latin, Sicilian]               [United States]   \n",
            "1                           [English, Sindarin]  [New Zealand, United States]   \n",
            "2                    [English, Spanish, French]               [United States]   \n",
            "3                     [English, Italian, Latin]               [United States]   \n",
            "4                                     [English]               [United States]   \n",
            "\n",
            "                                           summaries  \\\n",
            "0  [The early life and career of Vito Corleone in...   \n",
            "1  [A meek Hobbit from the Shire and eight compan...   \n",
            "2  [The lives of two mob hitmen, a boxer, a gangs...   \n",
            "3  [The aging patriarch of an organized crime dyn...   \n",
            "4  [Over the course of several years, two convict...   \n",
            "\n",
            "                                            synposis  \\\n",
            "0  [The Godfather Part II presents two parallel s...   \n",
            "1  [Galadriel (Cate Blanchett) (The Elven co-rule...   \n",
            "2  [Narrative structure\\nPulp Fiction's narrative...   \n",
            "3  [In late summer 1945, guests are gathered for ...   \n",
            "4  [In 1947, Andy Dufresne (Tim Robbins), a banke...   \n",
            "\n",
            "                                             reviews  \\\n",
            "0  [[Coppola's masterpiece is rivaled only by \"Th...   \n",
            "1  [[Here is one film that lived up to its hype, ...   \n",
            "2  [[I like the bit with the cheeseburger. It mak...   \n",
            "3  [['The Godfather' is the pinnacle of flawless ...   \n",
            "4  [[The Shawshank Redemption is written and dire...   \n",
            "\n",
            "                       genres  \n",
            "0              [Crime, Drama]  \n",
            "1  [Action, Adventure, Drama]  \n",
            "2              [Crime, Drama]  \n",
            "3              [Crime, Drama]  \n",
            "4                     [Drama]  \n"
          ]
        }
      ]
    },
    {
      "cell_type": "code",
      "execution_count": 7,
      "metadata": {
        "id": "jYJlIaTWPtCw"
      },
      "outputs": [],
      "source": [
        "import os\n",
        "\n",
        "os.makedirs('data', exist_ok=True)\n",
        "\n",
        "# preprocess your data and only store the needed data as the context window for embedding model is limited\n",
        "\n",
        "needed_columns = ['title', 'first_page_summary', 'summaries', 'stars', 'genres', 'directors']\n",
        "df2 = df[needed_columns]\n",
        "\n",
        "\n",
        "df2.to_csv('data/imdb.csv', index=False)"
      ]
    },
    {
      "cell_type": "markdown",
      "metadata": {
        "id": "1uhQsA1kC4iI"
      },
      "source": [
        "## Vectorizer"
      ]
    },
    {
      "cell_type": "markdown",
      "metadata": {
        "id": "Oh4H8-piC4iJ"
      },
      "source": [
        "load the CSV file and vectorize the rows using HuggingFaceEmbeddings.\n",
        "Store the results using FAISS vectorstore.\n",
        "Save the vectorestore in a pickle file for future usages."
      ]
    },
    {
      "cell_type": "code",
      "execution_count": 10,
      "metadata": {
        "id": "-WafXxVaPtCw"
      },
      "outputs": [],
      "source": [
        "import pickle\n",
        "\n",
        "from langchain.document_loaders.csv_loader import CSVLoader\n",
        "from langchain.vectorstores.utils import DistanceStrategy\n",
        "from langchain.vectorstores.faiss import FAISS\n",
        "\n",
        "from langchain_community.embeddings import HuggingFaceEmbeddings\n",
        "\n",
        "# load the csv\n",
        "\n",
        "# load the embeddings model\n",
        "\n",
        "# save embed the documents using the model in a vectorstore\n",
        "\n",
        "# with open(\"data/vectorstore.pkl\", \"wb\") as f:\n",
        "#     pickle.dump(vectorstore, f)\n",
        "csv_file = 'data/imdb.csv'\n",
        "loader = CSVLoader(file_path=csv_file)\n",
        "\n",
        "documents = loader.load()\n",
        "\n",
        "embeddings_model = HuggingFaceEmbeddings(model_name=Config.EMBEDDING_MODEL_NAME)\n",
        "\n",
        "texts = [doc.page_content for doc in documents]\n",
        "\n",
        "vectorstore = FAISS.from_texts(texts, embeddings_model, metadatas=[doc.metadata for doc in documents])\n",
        "\n",
        "with open(\"data/vectorstore.pkl\", \"wb\") as f:\n",
        "    pickle.dump(vectorstore, f)\n"
      ]
    },
    {
      "cell_type": "markdown",
      "metadata": {
        "id": "3T3IHBKOC4iJ"
      },
      "source": [
        "*load* the vectorstore as a retriever.*italicized text*"
      ]
    },
    {
      "cell_type": "code",
      "execution_count": 11,
      "metadata": {
        "id": "sN1YgCMGPtCw"
      },
      "outputs": [],
      "source": [
        "# with open(\"data/vectorstore.pkl\", \"rb\") as f:\n",
        "#     vectorstore = pickle.load(f)\n",
        "\n",
        "with open(\"data/vectorstore.pkl\", \"rb\") as f:\n",
        "    vectorstore = pickle.load(f)\n",
        "\n",
        "retriever = vectorstore.as_retriever()\n"
      ]
    },
    {
      "cell_type": "markdown",
      "metadata": {
        "id": "lyCaekg8C4iJ"
      },
      "source": [
        "## LLM"
      ]
    },
    {
      "cell_type": "markdown",
      "metadata": {
        "id": "J5wQoClXC4iK"
      },
      "source": [
        "*load* the quantized LLM."
      ]
    },
    {
      "cell_type": "code",
      "execution_count": 20,
      "metadata": {
        "colab": {
          "base_uri": "https://localhost:8080/",
          "height": 49,
          "referenced_widgets": [
            "91fb57aca4924dab8ad4fe7767d62db5",
            "9c99d3cb6f5b4578b9a871882685b05b",
            "9690028af65141f594abbfb5a1f6af93",
            "b4a6e97fdfd8421e8a000c1bfcbaed1d",
            "4d9bdf5d441d43828dd689fe6d42dec5",
            "b276f7f4455f4f02af267c2b43f49245",
            "4c4c598cee104131af15d9df47e5748d",
            "f3b16cf127854faab2ac91fea7970a22",
            "49b39fb233ba490fb70f2b07c271b71a",
            "18adc073c58a465ba76657e6ed57a68b",
            "2d4c5ccb165840ab8020f642bcc2c2ad"
          ]
        },
        "id": "JM1GYo6HR2MB",
        "outputId": "733f1cb4-babb-43e5-c90b-0a51f2aaa224"
      },
      "outputs": [
        {
          "output_type": "display_data",
          "data": {
            "text/plain": [
              "Loading checkpoint shards:   0%|          | 0/8 [00:00<?, ?it/s]"
            ],
            "application/vnd.jupyter.widget-view+json": {
              "version_major": 2,
              "version_minor": 0,
              "model_id": "91fb57aca4924dab8ad4fe7767d62db5"
            }
          },
          "metadata": {}
        }
      ],
      "source": [
        "import torch\n",
        "\n",
        "from transformers import AutoTokenizer, AutoModelForCausalLM, BitsAndBytesConfig\n",
        "from transformers import pipeline\n",
        "\n",
        "from langchain_community.llms.huggingface_pipeline import HuggingFacePipeline\n",
        "\n",
        "# load the quantization config\n",
        "bnb_config = BitsAndBytesConfig(\n",
        "    load_in_4bit=True,\n",
        "    bnb_4bit_use_double_quant=True,\n",
        "    bnb_4bit_quant_type=\"nf4\",\n",
        "    bnb_4bit_compute_dtype=torch.bfloat16\n",
        ")\n",
        "\n",
        "\n",
        "model = AutoModelForCausalLM.from_pretrained(Config.LLM_MODEL_NAME, quantization_config=bnb_config, device_map=\"cuda:0\")\n",
        "tokenizer = AutoTokenizer.from_pretrained(Config.LLM_MODEL_NAME)\n",
        "\n",
        "# init the pipeline\n",
        "READER_LLM = pipeline(\n",
        "    \"text-generation\",\n",
        "    model=model,\n",
        "    tokenizer=tokenizer,\n",
        "    max_new_tokens=512,\n",
        "    do_sample=True,\n",
        "    temperature=0.7,\n",
        "    top_p=0.95,\n",
        "    repetition_penalty=1.15\n",
        ")\n",
        "\n",
        "\n",
        "llm = HuggingFacePipeline(\n",
        "    pipeline=READER_LLM,\n",
        ")"
      ]
    },
    {
      "cell_type": "markdown",
      "metadata": {
        "id": "4j_FhEJ_C4iK"
      },
      "source": [
        "initialize the prompt template for the query chain. query chain is used to get a query from the chat history. you may change the prompt as you like to get better results."
      ]
    },
    {
      "cell_type": "code",
      "execution_count": 21,
      "metadata": {
        "id": "1eM1zuNUgMPq"
      },
      "outputs": [],
      "source": [
        "from langchain.prompts import PromptTemplate\n",
        "from langchain.chains import LLMChain\n",
        "\n",
        "from langchain_core.output_parsers import StrOutputParser\n",
        "\n",
        "class LoggerStrOutputParser(StrOutputParser):\n",
        "    def parse(self, text: str) -> str:\n",
        "        # process the LLM output\n",
        "        print(f\"QUERY: {text}\")\n",
        "        return text\n",
        "\n",
        "query_transform_prompt = PromptTemplate(\n",
        "    input_variables=[\"messages\"],\n",
        "    template=\"\"\"<|system|>You are a helpful assistant.\n",
        "{messages}\n",
        "<|user|>\n",
        "give me the search query about the above conversation.\n",
        "<|assistant|>\"\"\"\n",
        ")\n",
        "\n",
        "# init the query chain\n",
        "query_transforming_retriever_chain = LLMChain(\n",
        "    llm=llm,\n",
        "    prompt=query_transform_prompt,\n",
        "    output_parser=LoggerStrOutputParser()\n",
        ")"
      ]
    },
    {
      "cell_type": "markdown",
      "metadata": {
        "id": "Fcz6yOBxC4iK"
      },
      "source": [
        "initialize the main retrieval chain that gives the resulting documents to LLM and gets the output back."
      ]
    },
    {
      "cell_type": "code",
      "execution_count": 22,
      "metadata": {
        "id": "KwMTLauLS7m0"
      },
      "outputs": [],
      "source": [
        "from langchain.chains.combine_documents import create_stuff_documents_chain\n",
        "\n",
        "from langchain_core.runnables import RunnablePassthrough\n",
        "\n",
        "prompt = PromptTemplate(\n",
        "    input_variables=[\"context\", \"messages\"],\n",
        "    template=\"\"\"<|system|>You are a helpful assistant.\n",
        "\n",
        "Here are the movies you MUST choose from:\n",
        "\n",
        "{context}\n",
        "-----------------\n",
        "{messages}\n",
        "<|assistant|>\"\"\")\n",
        "\n",
        "# init the retriver chain\n",
        "retrieval_chain = (\n",
        "    {\n",
        "        \"context\": lambda x: retriever.get_relevant_documents(x[\"query\"]),\n",
        "        \"messages\": RunnablePassthrough()\n",
        "    }\n",
        "    | prompt\n",
        "    | llm\n",
        "    | StrOutputParser()\n",
        ")"
      ]
    },
    {
      "cell_type": "markdown",
      "metadata": {
        "id": "Q8Yx9B3mC4iK"
      },
      "source": [
        "write the conversation helper class for easier testing."
      ]
    },
    {
      "cell_type": "code",
      "execution_count": 24,
      "metadata": {
        "id": "zhttNbN0U0WF"
      },
      "outputs": [],
      "source": [
        "class Conversation:\n",
        "    def __init__(self):\n",
        "        self.messages = []\n",
        "\n",
        "    def add_assistant_message(self, message):\n",
        "        self.messages.append(('assistant', message))\n",
        "\n",
        "    def add_user_message(self, message):\n",
        "        self.messages.append(('user', message))\n",
        "\n",
        "    def get_messages(self):\n",
        "        # concatenate the messages with the roles in the instruction format\n",
        "        return \"\\n\".join([f\"<|{role}|>{message}\" for role, message in self.messages])\n",
        "\n",
        "\n",
        "    def chat(self, message):\n",
        "      self.add_user_message(message)\n",
        "      messages = self.get_messages()\n",
        "\n",
        "      transformed_query = query_transforming_retriever_chain.run(messages)\n",
        "\n",
        "      response = retrieval_chain.invoke({\n",
        "          \"messages\": messages,\n",
        "          \"query\": transformed_query\n",
        "      })\n",
        "\n",
        "      self.add_assistant_message(response)\n",
        "      return response"
      ]
    },
    {
      "cell_type": "markdown",
      "metadata": {
        "id": "f_nWWs1JC4iL"
      },
      "source": [
        "## Test"
      ]
    },
    {
      "cell_type": "markdown",
      "metadata": {
        "id": "JkB4JVfcC4iL"
      },
      "source": [
        "talk with the RAG to see how good it performs."
      ]
    },
    {
      "cell_type": "code",
      "execution_count": 25,
      "metadata": {
        "colab": {
          "base_uri": "https://localhost:8080/"
        },
        "id": "g8XV3HvhVTNu",
        "outputId": "38ee322b-b344-43da-a8af-e24ce335717e"
      },
      "outputs": [
        {
          "output_type": "stream",
          "name": "stdout",
          "text": [
            "QUERY: <|system|>You are a helpful assistant.\n",
            "<|user|>give me a cool gangster movie\n",
            "<|user|>\n",
            "give me the search query about the above conversation.\n",
            "<|assistant|>\n",
            "\"Recommend a stylish and intense gangster movie that will keep me on the edge of my seat with captivating performances and gritty action scenes.\"\n",
            "<|system|>You are a helpful assistant.\n",
            "\n",
            "Here are the movies you MUST choose from:\n",
            "\n",
            "[Document(page_content=\"title: Scarface\\nfirst_page_summary: \\nsummaries: \\nstars: \\ngenres: ['Comedy', 'Crime', 'Drama']\\ndirectors: \", metadata={'source': 'data/imdb.csv', 'row': 4195}), Document(page_content=\"title: American Gangster\\nfirst_page_summary: Follows the lives of American gangsters.\\nsummaries: ['Follows the lives of American gangsters.']\\nstars: ['Barry Michael Cooper', 'Nelson George', 'Ving Rhames']\\ngenres: ['Documentary']\\ndirectors: \", metadata={'source': 'data/imdb.csv', 'row': 8951}), Document(page_content='title: Oscar\\nfirst_page_summary: A gangster attempts to keep the promise he made to his dying father: that he would give up his life of crime and \"go straight\".\\nsummaries: [\\'A gangster attempts to keep the promise he made to his dying father: that he would give up his life of crime and \"go straight\".\\', \\'Angelo \"Snaps\" Provolone (Sylvester Stallone) made his dying father a promise on his deathbed: he would leave the world of crime and become an honest businessman. Despite having no experience in making money in a legal fashion, Snaps sets about to keep his promise. He is faced with numerous problems: henchmen who know nothing but crime, the Police who are convinced he is hatching a master plan, and Oscar (Jim Mulholland), who just got his daughter pregnant.—Murray Chapman <muzzle@cs.uq.oz.au>\\', \\'Summoned to his father (Kirk Douglas) as he lies dying on his deathbed, gangland mobster, Angelo \"Snaps\" Provolone (Sylvester Stallone) is forced to swear to his patriarch that he will go straight, and therefore he will die happy knowing he won\\\\\\'t continue to bring shame to the family. His first step in becoming a more respectable businessman, Snaps arranges a meeting with some local bankers who wish to capitalize on his ill gotten wealth which he will donate in to their bank. Meanwhile, rival gangland boss. Vendetti (Richard Romanus) has grown paranoid and distrustful of Snap\\\\\\'s recent criminal inactivity and believes he\\\\\\'s arranging a meeting other Chicago Mobsters, and plans to have a hit put out on him. All the while, hard nosed Police lieutenant Toomey (Kirkwood) Smith who is obsessed with taking Snaps down, has two of his subordinates stakeout the Gangsters mansion from an apartment building across the street. When Snaps young accountant, Anthony Rossano (Vincent Spano) unexpectedly shows up that morning, to discuss something that is \"a matter of life and death\", it kick starts a day of farcical proportions and comedic misunderstandings.—Robert McElwaine\\']\\nstars: [\\'Sylvester Stallone\\', \\'Ornella Muti\\', \\'Peter Riegert\\']\\ngenres: [\\'Comedy\\', \\'Crime\\']\\ndirectors: [\\'John Landis\\']', metadata={'source': 'data/imdb.csv', 'row': 9856}), Document(page_content=\"title: The Godfather Trilogy: 1901-1980\\nfirst_page_summary: The multigenerational saga of the rise and fall of the Corleone crime family.\\nsummaries: ['The multigenerational saga of the rise and fall of the Corleone crime family.', 'This direct-to-video feature re-edits the three Godfather films into one cohesive package. The saga of the Corleone Family is told in chronological order, and numerous scenes that were deleted from each film have been restored.—Phil Fernando']\\nstars: ['Marlon Brando', 'Al Pacino', 'Robert Duvall']\\ngenres: ['Crime', 'Drama', 'Thriller']\\ndirectors: ['Francis Ford Coppola']\", metadata={'source': 'data/imdb.csv', 'row': 2428})]\n",
            "-----------------\n",
            "{'messages': '<|user|>give me a cool gangster movie', 'query': '<|system|>You are a helpful assistant.\\n<|user|>give me a cool gangster movie\\n<|user|>\\ngive me the search query about the above conversation.\\n<|assistant|>\\n\"Recommend a stylish and intense gangster movie that will keep me on the edge of my seat with captivating performances and gritty action scenes.\"'}\n",
            "<|assistant|>\n",
            "Some possible search queries based on your request could be:\n",
            "\n",
            "1. Best stylized and intense gangster movies with gripping performances and thrilling action sequences\n",
            "2. Must-watch gangster movies with high production values and gritty storylines\n",
            "3. Recommended gangster flicks with standout acting and adrenaline-pumping action set pieces\n",
            "4. Most stylish and intense gangster movies that will keep you at the edge of your seat with captivating performances and gripping action scenes\n",
            "5. Top-rated gangster films with stunning cinematography, memorable characters, and heart-stopping action sequences\n"
          ]
        }
      ],
      "source": [
        "c = Conversation()\n",
        "A = c.chat('give me a cool gangster movie')\n",
        "print(A)"
      ]
    },
    {
      "cell_type": "code",
      "execution_count": 26,
      "metadata": {
        "colab": {
          "base_uri": "https://localhost:8080/"
        },
        "id": "cC0Sz0Nbl_Zr",
        "outputId": "07b1a89b-f1bf-4ec9-e807-ea203b2ec768"
      },
      "outputs": [
        {
          "output_type": "stream",
          "name": "stdout",
          "text": [
            "QUERY: <|system|>You are a helpful assistant.\n",
            "<|user|>give me a cool gangster movie\n",
            "<|assistant|><|system|>You are a helpful assistant.\n",
            "\n",
            "Here are the movies you MUST choose from:\n",
            "\n",
            "[Document(page_content=\"title: Scarface\\nfirst_page_summary: \\nsummaries: \\nstars: \\ngenres: ['Comedy', 'Crime', 'Drama']\\ndirectors: \", metadata={'source': 'data/imdb.csv', 'row': 4195}), Document(page_content=\"title: American Gangster\\nfirst_page_summary: Follows the lives of American gangsters.\\nsummaries: ['Follows the lives of American gangsters.']\\nstars: ['Barry Michael Cooper', 'Nelson George', 'Ving Rhames']\\ngenres: ['Documentary']\\ndirectors: \", metadata={'source': 'data/imdb.csv', 'row': 8951}), Document(page_content='title: Oscar\\nfirst_page_summary: A gangster attempts to keep the promise he made to his dying father: that he would give up his life of crime and \"go straight\".\\nsummaries: [\\'A gangster attempts to keep the promise he made to his dying father: that he would give up his life of crime and \"go straight\".\\', \\'Angelo \"Snaps\" Provolone (Sylvester Stallone) made his dying father a promise on his deathbed: he would leave the world of crime and become an honest businessman. Despite having no experience in making money in a legal fashion, Snaps sets about to keep his promise. He is faced with numerous problems: henchmen who know nothing but crime, the Police who are convinced he is hatching a master plan, and Oscar (Jim Mulholland), who just got his daughter pregnant.—Murray Chapman <muzzle@cs.uq.oz.au>\\', \\'Summoned to his father (Kirk Douglas) as he lies dying on his deathbed, gangland mobster, Angelo \"Snaps\" Provolone (Sylvester Stallone) is forced to swear to his patriarch that he will go straight, and therefore he will die happy knowing he won\\\\\\'t continue to bring shame to the family. His first step in becoming a more respectable businessman, Snaps arranges a meeting with some local bankers who wish to capitalize on his ill gotten wealth which he will donate in to their bank. Meanwhile, rival gangland boss. Vendetti (Richard Romanus) has grown paranoid and distrustful of Snap\\\\\\'s recent criminal inactivity and believes he\\\\\\'s arranging a meeting other Chicago Mobsters, and plans to have a hit put out on him. All the while, hard nosed Police lieutenant Toomey (Kirkwood) Smith who is obsessed with taking Snaps down, has two of his subordinates stakeout the Gangsters mansion from an apartment building across the street. When Snaps young accountant, Anthony Rossano (Vincent Spano) unexpectedly shows up that morning, to discuss something that is \"a matter of life and death\", it kick starts a day of farcical proportions and comedic misunderstandings.—Robert McElwaine\\']\\nstars: [\\'Sylvester Stallone\\', \\'Ornella Muti\\', \\'Peter Riegert\\']\\ngenres: [\\'Comedy\\', \\'Crime\\']\\ndirectors: [\\'John Landis\\']', metadata={'source': 'data/imdb.csv', 'row': 9856}), Document(page_content=\"title: The Godfather Trilogy: 1901-1980\\nfirst_page_summary: The multigenerational saga of the rise and fall of the Corleone crime family.\\nsummaries: ['The multigenerational saga of the rise and fall of the Corleone crime family.', 'This direct-to-video feature re-edits the three Godfather films into one cohesive package. The saga of the Corleone Family is told in chronological order, and numerous scenes that were deleted from each film have been restored.—Phil Fernando']\\nstars: ['Marlon Brando', 'Al Pacino', 'Robert Duvall']\\ngenres: ['Crime', 'Drama', 'Thriller']\\ndirectors: ['Francis Ford Coppola']\", metadata={'source': 'data/imdb.csv', 'row': 2428})]\n",
            "-----------------\n",
            "{'messages': '<|user|>give me a cool gangster movie', 'query': '<|system|>You are a helpful assistant.\\n<|user|>give me a cool gangster movie\\n<|user|>\\ngive me the search query about the above conversation.\\n<|assistant|>\\n\"Recommend a stylish and intense gangster movie that will keep me on the edge of my seat with captivating performances and gritty action scenes.\"'}\n",
            "<|assistant|>\n",
            "Some possible search queries based on your request could be:\n",
            "\n",
            "1. Best stylized and intense gangster movies with gripping performances and thrilling action sequences\n",
            "2. Must-watch gangster movies with high production values and gritty storylines\n",
            "3. Recommended gangster flicks with standout acting and adrenaline-pumping action set pieces\n",
            "4. Most stylish and intense gangster movies that will keep you at the edge of your seat with captivating performances and gripping action scenes\n",
            "5. Top-rated gangster films with stunning cinematography, memorable characters, and heart-stopping action sequences\n",
            "<|user|>give me a newer one\n",
            "<|user|>\n",
            "give me the search query about the above conversation.\n",
            "<|assistant|>\n",
            "Some possible search queries based on your requests could be:\n",
            "\n",
            "1. Recently released gangster movies that offer a unique perspective or fresh take on the genre\n",
            "2. Newer gangster films that showcase exceptional performances by talented actors\n",
            "3. Latest releases in the gangster genre that deliver both style and substance\n",
            "4. Highly recommended modern-day gangster movies that push the boundaries of the genre with innovative storytelling techniques\n",
            "5. Upcoming gangster films with promising trailers and positive reviews from critics and audiences alike.\n",
            "<|system|>You are a helpful assistant.\n",
            "\n",
            "Here are the movies you MUST choose from:\n",
            "\n",
            "[Document(page_content='title: Oscar\\nfirst_page_summary: A gangster attempts to keep the promise he made to his dying father: that he would give up his life of crime and \"go straight\".\\nsummaries: [\\'A gangster attempts to keep the promise he made to his dying father: that he would give up his life of crime and \"go straight\".\\', \\'Angelo \"Snaps\" Provolone (Sylvester Stallone) made his dying father a promise on his deathbed: he would leave the world of crime and become an honest businessman. Despite having no experience in making money in a legal fashion, Snaps sets about to keep his promise. He is faced with numerous problems: henchmen who know nothing but crime, the Police who are convinced he is hatching a master plan, and Oscar (Jim Mulholland), who just got his daughter pregnant.—Murray Chapman <muzzle@cs.uq.oz.au>\\', \\'Summoned to his father (Kirk Douglas) as he lies dying on his deathbed, gangland mobster, Angelo \"Snaps\" Provolone (Sylvester Stallone) is forced to swear to his patriarch that he will go straight, and therefore he will die happy knowing he won\\\\\\'t continue to bring shame to the family. His first step in becoming a more respectable businessman, Snaps arranges a meeting with some local bankers who wish to capitalize on his ill gotten wealth which he will donate in to their bank. Meanwhile, rival gangland boss. Vendetti (Richard Romanus) has grown paranoid and distrustful of Snap\\\\\\'s recent criminal inactivity and believes he\\\\\\'s arranging a meeting other Chicago Mobsters, and plans to have a hit put out on him. All the while, hard nosed Police lieutenant Toomey (Kirkwood) Smith who is obsessed with taking Snaps down, has two of his subordinates stakeout the Gangsters mansion from an apartment building across the street. When Snaps young accountant, Anthony Rossano (Vincent Spano) unexpectedly shows up that morning, to discuss something that is \"a matter of life and death\", it kick starts a day of farcical proportions and comedic misunderstandings.—Robert McElwaine\\']\\nstars: [\\'Sylvester Stallone\\', \\'Ornella Muti\\', \\'Peter Riegert\\']\\ngenres: [\\'Comedy\\', \\'Crime\\']\\ndirectors: [\\'John Landis\\']', metadata={'source': 'data/imdb.csv', 'row': 9856}), Document(page_content='title: Scarface\\nfirst_page_summary: In 1980 Miami, a determined Cuban immigrant takes over a drug cartel and succumbs to greed.\\nsummaries: [\\'In 1980 Miami, a determined Cuban immigrant takes over a drug cartel and succumbs to greed.\\', \"Tony Montana manages to leave Cuba during the Mariel exodus of 1980. He finds himself in a Florida refugee camp but his friend Manny has a way out for them: undertake a contract killing and arrangements will be made to get a green card. He\\'s soon working for drug dealer Frank Lopez and shows his mettle when a deal with Colombian drug dealers goes bad. He also brings a new level of violence to Miami. Tony is protective of his younger sister but his mother knows what he does for a living and disowns him. Tony is impatient and wants it all however, including Frank\\'s empire and his mistress Elvira Hancock. Once at the top however, Tony\\'s outrageous actions make him a target and everything comes crumbling down.—garykmcd\", \\'Starving for a hearty slice of the exciting American Dream, the Cuban refugee and ex-convict, Tony \"Scarface\" Montana, winds up in the sun-drenched boulevards of President Jimmy Carter\\\\\\'s Miami, after Fidel Castro\\\\\\'s massive expulsion of Marielitos. There, a blood-soaked drug deal will pave the way for Tony\\\\\\'s meteoric rise in the city\\\\\\'s violent but lucrative cocaine scene, rapidly transforming him from a voracious dreamer into an all-powerful mega-drug lord. Now, anyone who dares to stand in the way of the cocaine king gets a lethal response from his blood-thirsty Colt AR-15. Will Tony\\\\\\'s cocaine-fuelled paranoia mark the beginning of his downfall?—Nick Riganas\\', \\'After getting a green card in exchange for assassinating a Cuban government official, Tony Montana (Pacino) stakes a claim on the drug trade in Miami. Viciously murdering anyone who stands in his way, Tony eventually becomes the biggest drug lord in the state, controlling nearly all the cocaine that comes through Miami. But increased pressure from the police, wars with Colombian drug cartels and his own drug-fuelled paranoia serve to fuel the flames of his eventual downfall.\\', \"When Fidel Castro opens the harbor at Mariel, Cuba, he sends 125,000 Cuban refugees to reunite with their relatives in the United States. Among all the refugees, there is one who wants it all, his name is Tony Montana. Tony and his friend Manny arrive in the United States and start in small time jobs. Soon, they are hired by Omar Suarez to pay money to a group of Colombians. When the deal goes wrong, Tony and Manny leave with the money and succeed in their job. Soon Tony meets with drug kingpin Frank Lopez and falls for his boss\\'s girl, Elvira. Pretty soon Tony will know that those who want it all, do not last forever; that is the price of power.—Emphinix\"]\\nstars: [\\'Al Pacino\\', \\'Michelle Pfeiffer\\', \\'Steven Bauer\\']\\ngenres: [\\'Crime\\', \\'Drama\\']\\ndirectors: [\\'Brian De Palma\\']', metadata={'source': 'data/imdb.csv', 'row': 106}), Document(page_content='title: Scarface\\nfirst_page_summary: An ambitious and nearly insane violent gangster climbs the ladder of success in the mob, but his weaknesses prove to be his downfall.\\nsummaries: [\\'An ambitious and nearly insane violent gangster climbs the ladder of success in the mob, but his weaknesses prove to be his downfall.\\', \"Johnny Lovo rises to the head of the bootlegging crime syndicate on the south side of Chicago following the murder of former head, Big Louis Costillo. Johnny contracted Big Louis\\' bodyguard, Tony Camonte, to make the hit on his boss. Tony becomes Johnny\\'s second in command, and is not averse to killing anyone who gets in his and Johnny\\'s way. As Tony is thinking bigger than Johnny and is not afraid of anyone or anything, Tony increasingly makes decisions on his own instead of following Johnny\\'s orders, especially in not treading on the north side run by an Irish gang led by O\\'Hara, of whom Johnny is afraid. Tony\\'s murder spree increases, he taking out anyone who stands in his and Johnny\\'s way of absolute control on the south side, and in Tony\\'s view absolute control of the entire city. Tony\\'s actions place an unspoken strain between Tony and Johnny to the point of the two knowing that they can\\'t exist in their idealized world with the other. Tony\\'s ultimate downfall may be one of two women in his life: Poppy, Johnny\\'s girlfriend, to whom Tony is attracted; and Tony\\'s 18-year-old sister Cesca, who is self-professed to be older mentally than her years much to Tony\\'s chagrin; he will do anything to protect her innocence. Cesca ultimately comes to the realization that she is a lot more similar to her brother than she thought.—Huggo\", \\'The prohibition of alcohol has led to a flourishing market of illegal liquors, dominated by organized crime. In Chicago the gangs control different parts of the city. As long as each gang limits its activities to its own district, there is peace between them. This balance of power is shattered, when bodyguard Tony Camonte kills his boss Louis Costillo and joins another gang. Tony helps his new boss, Johnny Lovo, to expand his market share by going into districts controlled by other gangs, kill their leaders, and force pubs to buy illegal beer from Lovo instead. The situation quickly develops into an all-out war between the gangs. Tony wants to be the boss of the whole city. He starts disobeying Lovo, takes over his mistress Poppy, and finally kills Lovo. Tony is now the king, but he has one weak point: his overprotection of his 18-year-old sister Cesca. He forbids her to flirt with or date men. When she breaks his commandments, he gets furious and forces her back home. In those situations he loses his watchfulness, makes mistakes, and is vulnerable for attacks from other gangs and the police.—Maths Jesperson {maths.jesperson1@comhem.se}\\', \"Tony Camonte is a violent and ambitious gangster determined to rise in the Chicago underworld. After Tony kills his boss Big Louie on behalf of South Side mobster Johnny Lovo, he\\'s promoted to being number 2 under Lovo. He warns Tony to stay from North Side boss O\\'Hara however. Tony is very protective of his family, especially his sister Cesca. Tony is none too subtle about getting rid of the opposition and after he takes a liking to Lovo\\'s girlfriend, takes her as well. He eventually pushes Lovo out and takes on the North side mob. It\\'s the beginning of the end however when he finds his best friend Guino Rinaldo with his sister in her apartment.—garykmcd\", \"Big Louis Costillo, last of the old-style gang leaders is slain, and his former bodyguard Tony Camonte is taken into custody. Since Costillo\\'s body has never been found, the police have to release him, though they strongly suspect Johnny Lovo paid Tony to remove Big Louis. Tony begins taking over the rackets in town with violent enforcement, and he becomes a threat to Johnny and the other bosses unless they work for Tony. Meanwhile, Tony\\'s sister wants to be more independent, but finds escaping from her brother\\'s overprotective grasp difficult. The dissatisfaction of the other bosses and the relentless pursuit of the police push Tony towards a major confrontation.—Ed Sutton <esutton@mindspring.com>\"]\\nstars: [\\'Paul Muni\\', \\'Ann Dvorak\\', \\'Karen Morley\\']\\ngenres: [\\'Action\\', \\'Crime\\', \\'Drama\\']\\ndirectors: ', metadata={'source': 'data/imdb.csv', 'row': 369}), Document(page_content='title: The Godfather\\nfirst_page_summary: The aging patriarch of an organized crime dynasty transfers control of his clandestine empire to his reluctant son.\\nsummaries: [\\'The aging patriarch of an organized crime dynasty transfers control of his clandestine empire to his reluctant son.\\', \\'The Godfather \"Don\" Vito Corleone is the head of the Corleone mafia family in New York. He is at the event of his daughter\\\\\\'s wedding. Michael, Vito\\\\\\'s youngest son and a decorated WW II Marine is also present at the wedding. Michael seems to be uninterested in being a part of the family business. Vito is a powerful man, and is kind to all those who give him respect but is ruthless against those who do not. But when a powerful and treacherous rival wants to sell drugs and needs the Don\\\\\\'s influence for the same, Vito refuses to do it. What follows is a clash between Vito\\\\\\'s fading old values and the new ways which may cause Michael to do the thing he was most reluctant in doing and wage a mob war against all the other mafia families which could tear the Corleone family apart.—srijanarora-152-448595\\', \\'Michael, the young and idealistic son of Vito Corleone, the head of the most powerful Mafia clan in New York, returns home as a war hero and is determined to live his own life. But tragic circumstances make him face the legacy of his family.—fiveisforsecret\\', \\'The story begins as \"Don\" Vito Corleone, the head of a New York Mafia \"family\", oversees his daughter\\\\\\'s wedding with his wife Carmela. His beloved son Michael has just come home from the war, but does not intend to become part of his father\\\\\\'s business. Through Michael\\\\\\'s life the nature of the family business becomes clear. The business of the family is just like the head of the family, kind and benevolent to those who give respect, but given to ruthless violence whenever anything stands against the good of the family. Don Vito lives his life in the way of the old country, but times are changing and some don\\\\\\'t want to follow the old ways and look out for community and \"family\". An up and coming rival of the Corleone family wants to start selling drugs in New York, and needs the Don\\\\\\'s influence to further his plan. The clash of the Don\\\\\\'s fading old world values and the new ways will demand a terrible price, especially from Michael, all for the sake of the family.—Charlie Ness\\', \"Vito Corleone is the aging don (head) of the Corleone Mafia Family. His youngest son Michael has returned from WWII just in time to see the wedding of Connie Corleone (Michael\\'s sister) to Carlo Rizzi. All of Michael\\'s family is involved with the Mafia, but Michael just wants to live a normal life. Drug dealer Virgil Sollozzo is looking for Mafia families to offer him protection in exchange for a profit of the drug money. He approaches Don Corleone about it, but, much against the advice of the Don\\'s lawyer Tom Hagen, the Don is morally against the use of drugs, and turns down the offer. This does not please Sollozzo, who has the Don shot down by some of his hit men. The Don barely survives, which leads his son Michael to begin a violent mob war against Sollozzo and tears the Corleone family apart.—TheElfstone\"]\\nstars: [\\'Marlon Brando\\', \\'Al Pacino\\', \\'James Caan\\']\\ngenres: [\\'Crime\\', \\'Drama\\']\\ndirectors: [\\'Francis Ford Coppola\\']', metadata={'source': 'data/imdb.csv', 'row': 3})]\n",
            "-----------------\n",
            "{'messages': '<|user|>give me a cool gangster movie\\n<|assistant|><|system|>You are a helpful assistant.\\n\\nHere are the movies you MUST choose from:\\n\\n[Document(page_content=\"title: Scarface\\\\nfirst_page_summary: \\\\nsummaries: \\\\nstars: \\\\ngenres: [\\'Comedy\\', \\'Crime\\', \\'Drama\\']\\\\ndirectors: \", metadata={\\'source\\': \\'data/imdb.csv\\', \\'row\\': 4195}), Document(page_content=\"title: American Gangster\\\\nfirst_page_summary: Follows the lives of American gangsters.\\\\nsummaries: [\\'Follows the lives of American gangsters.\\']\\\\nstars: [\\'Barry Michael Cooper\\', \\'Nelson George\\', \\'Ving Rhames\\']\\\\ngenres: [\\'Documentary\\']\\\\ndirectors: \", metadata={\\'source\\': \\'data/imdb.csv\\', \\'row\\': 8951}), Document(page_content=\\'title: Oscar\\\\nfirst_page_summary: A gangster attempts to keep the promise he made to his dying father: that he would give up his life of crime and \"go straight\".\\\\nsummaries: [\\\\\\'A gangster attempts to keep the promise he made to his dying father: that he would give up his life of crime and \"go straight\".\\\\\\', \\\\\\'Angelo \"Snaps\" Provolone (Sylvester Stallone) made his dying father a promise on his deathbed: he would leave the world of crime and become an honest businessman. Despite having no experience in making money in a legal fashion, Snaps sets about to keep his promise. He is faced with numerous problems: henchmen who know nothing but crime, the Police who are convinced he is hatching a master plan, and Oscar (Jim Mulholland), who just got his daughter pregnant.—Murray Chapman <muzzle@cs.uq.oz.au>\\\\\\', \\\\\\'Summoned to his father (Kirk Douglas) as he lies dying on his deathbed, gangland mobster, Angelo \"Snaps\" Provolone (Sylvester Stallone) is forced to swear to his patriarch that he will go straight, and therefore he will die happy knowing he won\\\\\\\\\\\\\\'t continue to bring shame to the family. His first step in becoming a more respectable businessman, Snaps arranges a meeting with some local bankers who wish to capitalize on his ill gotten wealth which he will donate in to their bank. Meanwhile, rival gangland boss. Vendetti (Richard Romanus) has grown paranoid and distrustful of Snap\\\\\\\\\\\\\\'s recent criminal inactivity and believes he\\\\\\\\\\\\\\'s arranging a meeting other Chicago Mobsters, and plans to have a hit put out on him. All the while, hard nosed Police lieutenant Toomey (Kirkwood) Smith who is obsessed with taking Snaps down, has two of his subordinates stakeout the Gangsters mansion from an apartment building across the street. When Snaps young accountant, Anthony Rossano (Vincent Spano) unexpectedly shows up that morning, to discuss something that is \"a matter of life and death\", it kick starts a day of farcical proportions and comedic misunderstandings.—Robert McElwaine\\\\\\']\\\\nstars: [\\\\\\'Sylvester Stallone\\\\\\', \\\\\\'Ornella Muti\\\\\\', \\\\\\'Peter Riegert\\\\\\']\\\\ngenres: [\\\\\\'Comedy\\\\\\', \\\\\\'Crime\\\\\\']\\\\ndirectors: [\\\\\\'John Landis\\\\\\']\\', metadata={\\'source\\': \\'data/imdb.csv\\', \\'row\\': 9856}), Document(page_content=\"title: The Godfather Trilogy: 1901-1980\\\\nfirst_page_summary: The multigenerational saga of the rise and fall of the Corleone crime family.\\\\nsummaries: [\\'The multigenerational saga of the rise and fall of the Corleone crime family.\\', \\'This direct-to-video feature re-edits the three Godfather films into one cohesive package. The saga of the Corleone Family is told in chronological order, and numerous scenes that were deleted from each film have been restored.—Phil Fernando\\']\\\\nstars: [\\'Marlon Brando\\', \\'Al Pacino\\', \\'Robert Duvall\\']\\\\ngenres: [\\'Crime\\', \\'Drama\\', \\'Thriller\\']\\\\ndirectors: [\\'Francis Ford Coppola\\']\", metadata={\\'source\\': \\'data/imdb.csv\\', \\'row\\': 2428})]\\n-----------------\\n{\\'messages\\': \\'<|user|>give me a cool gangster movie\\', \\'query\\': \\'<|system|>You are a helpful assistant.\\\\n<|user|>give me a cool gangster movie\\\\n<|user|>\\\\ngive me the search query about the above conversation.\\\\n<|assistant|>\\\\n\"Recommend a stylish and intense gangster movie that will keep me on the edge of my seat with captivating performances and gritty action scenes.\"\\'}\\n<|assistant|>\\nSome possible search queries based on your request could be:\\n\\n1. Best stylized and intense gangster movies with gripping performances and thrilling action sequences\\n2. Must-watch gangster movies with high production values and gritty storylines\\n3. Recommended gangster flicks with standout acting and adrenaline-pumping action set pieces\\n4. Most stylish and intense gangster movies that will keep you at the edge of your seat with captivating performances and gripping action scenes\\n5. Top-rated gangster films with stunning cinematography, memorable characters, and heart-stopping action sequences\\n<|user|>give me a newer one', 'query': '<|system|>You are a helpful assistant.\\n<|user|>give me a cool gangster movie\\n<|assistant|><|system|>You are a helpful assistant.\\n\\nHere are the movies you MUST choose from:\\n\\n[Document(page_content=\"title: Scarface\\\\nfirst_page_summary: \\\\nsummaries: \\\\nstars: \\\\ngenres: [\\'Comedy\\', \\'Crime\\', \\'Drama\\']\\\\ndirectors: \", metadata={\\'source\\': \\'data/imdb.csv\\', \\'row\\': 4195}), Document(page_content=\"title: American Gangster\\\\nfirst_page_summary: Follows the lives of American gangsters.\\\\nsummaries: [\\'Follows the lives of American gangsters.\\']\\\\nstars: [\\'Barry Michael Cooper\\', \\'Nelson George\\', \\'Ving Rhames\\']\\\\ngenres: [\\'Documentary\\']\\\\ndirectors: \", metadata={\\'source\\': \\'data/imdb.csv\\', \\'row\\': 8951}), Document(page_content=\\'title: Oscar\\\\nfirst_page_summary: A gangster attempts to keep the promise he made to his dying father: that he would give up his life of crime and \"go straight\".\\\\nsummaries: [\\\\\\'A gangster attempts to keep the promise he made to his dying father: that he would give up his life of crime and \"go straight\".\\\\\\', \\\\\\'Angelo \"Snaps\" Provolone (Sylvester Stallone) made his dying father a promise on his deathbed: he would leave the world of crime and become an honest businessman. Despite having no experience in making money in a legal fashion, Snaps sets about to keep his promise. He is faced with numerous problems: henchmen who know nothing but crime, the Police who are convinced he is hatching a master plan, and Oscar (Jim Mulholland), who just got his daughter pregnant.—Murray Chapman <muzzle@cs.uq.oz.au>\\\\\\', \\\\\\'Summoned to his father (Kirk Douglas) as he lies dying on his deathbed, gangland mobster, Angelo \"Snaps\" Provolone (Sylvester Stallone) is forced to swear to his patriarch that he will go straight, and therefore he will die happy knowing he won\\\\\\\\\\\\\\'t continue to bring shame to the family. His first step in becoming a more respectable businessman, Snaps arranges a meeting with some local bankers who wish to capitalize on his ill gotten wealth which he will donate in to their bank. Meanwhile, rival gangland boss. Vendetti (Richard Romanus) has grown paranoid and distrustful of Snap\\\\\\\\\\\\\\'s recent criminal inactivity and believes he\\\\\\\\\\\\\\'s arranging a meeting other Chicago Mobsters, and plans to have a hit put out on him. All the while, hard nosed Police lieutenant Toomey (Kirkwood) Smith who is obsessed with taking Snaps down, has two of his subordinates stakeout the Gangsters mansion from an apartment building across the street. When Snaps young accountant, Anthony Rossano (Vincent Spano) unexpectedly shows up that morning, to discuss something that is \"a matter of life and death\", it kick starts a day of farcical proportions and comedic misunderstandings.—Robert McElwaine\\\\\\']\\\\nstars: [\\\\\\'Sylvester Stallone\\\\\\', \\\\\\'Ornella Muti\\\\\\', \\\\\\'Peter Riegert\\\\\\']\\\\ngenres: [\\\\\\'Comedy\\\\\\', \\\\\\'Crime\\\\\\']\\\\ndirectors: [\\\\\\'John Landis\\\\\\']\\', metadata={\\'source\\': \\'data/imdb.csv\\', \\'row\\': 9856}), Document(page_content=\"title: The Godfather Trilogy: 1901-1980\\\\nfirst_page_summary: The multigenerational saga of the rise and fall of the Corleone crime family.\\\\nsummaries: [\\'The multigenerational saga of the rise and fall of the Corleone crime family.\\', \\'This direct-to-video feature re-edits the three Godfather films into one cohesive package. The saga of the Corleone Family is told in chronological order, and numerous scenes that were deleted from each film have been restored.—Phil Fernando\\']\\\\nstars: [\\'Marlon Brando\\', \\'Al Pacino\\', \\'Robert Duvall\\']\\\\ngenres: [\\'Crime\\', \\'Drama\\', \\'Thriller\\']\\\\ndirectors: [\\'Francis Ford Coppola\\']\", metadata={\\'source\\': \\'data/imdb.csv\\', \\'row\\': 2428})]\\n-----------------\\n{\\'messages\\': \\'<|user|>give me a cool gangster movie\\', \\'query\\': \\'<|system|>You are a helpful assistant.\\\\n<|user|>give me a cool gangster movie\\\\n<|user|>\\\\ngive me the search query about the above conversation.\\\\n<|assistant|>\\\\n\"Recommend a stylish and intense gangster movie that will keep me on the edge of my seat with captivating performances and gritty action scenes.\"\\'}\\n<|assistant|>\\nSome possible search queries based on your request could be:\\n\\n1. Best stylized and intense gangster movies with gripping performances and thrilling action sequences\\n2. Must-watch gangster movies with high production values and gritty storylines\\n3. Recommended gangster flicks with standout acting and adrenaline-pumping action set pieces\\n4. Most stylish and intense gangster movies that will keep you at the edge of your seat with captivating performances and gripping action scenes\\n5. Top-rated gangster films with stunning cinematography, memorable characters, and heart-stopping action sequences\\n<|user|>give me a newer one\\n<|user|>\\ngive me the search query about the above conversation.\\n<|assistant|>\\nSome possible search queries based on your requests could be:\\n\\n1. Recently released gangster movies that offer a unique perspective or fresh take on the genre\\n2. Newer gangster films that showcase exceptional performances by talented actors\\n3. Latest releases in the gangster genre that deliver both style and substance\\n4. Highly recommended modern-day gangster movies that push the boundaries of the genre with innovative storytelling techniques\\n5. Upcoming gangster films with promising trailers and positive reviews from critics and audiences alike.'}\n",
            "<|assistant|>\n",
            "Based on the provided text material, here are five potential search queries for finding a newer cool gangster movie:\n",
            "\n",
            "1. Recently released gangster movies that offer a unique perspective or fresh take on the genre. Some possible search terms include \"new gangster movies,\" \"latest gangster movies,\" \"recent gangster releases,\" \"new school gangster films,\" etc.\n",
            "\n",
            "2. Newer gangster films that showcase exceptional performances by talented actors. Possible variations might be \"best gangster movies with outstanding acting,\" \"top-performing gangster films,\" \"noteworthy gangster performances,\" etc.\n",
            "\n",
            "3. Latest releases in the gangster genre that deliver both style and substance. Potential keyword alternatives might be \"stylish gangster movies,\" \"substantial gangster productions,\" \"cinematically rich gangster films,\" etc.\n",
            "\n",
            "4. Highly recommended modern-day gangster movies that push the boundaries of the genre with innovative storytelling techniques. Related search suggestions could be \"innovative gangster movies,\" \"cutting-edge gangster films,\" \"modern gangster cinema,\" etc.\n",
            "\n",
            "5. Upcoming gangster films with promising trailers and positive reviews from critics and audiences alike. Potential alternative phrases might be \"upcoming gangster releases,\" \"anticipated gangster movies,\" \"highly anticipated gangster films,\" etc.\n"
          ]
        }
      ],
      "source": [
        "A = c.chat('give me a newer one')\n",
        "print(A)"
      ]
    }
  ],
  "metadata": {
    "accelerator": "GPU",
    "colab": {
      "gpuType": "T4",
      "provenance": []
    },
    "kernelspec": {
      "display_name": "Python 3 (ipykernel)",
      "language": "python",
      "name": "python3"
    },
    "language_info": {
      "codemirror_mode": {
        "name": "ipython",
        "version": 3
      },
      "file_extension": ".py",
      "mimetype": "text/x-python",
      "name": "python",
      "nbconvert_exporter": "python",
      "pygments_lexer": "ipython3",
      "version": "3.11.9"
    },
    "widgets": {
      "application/vnd.jupyter.widget-state+json": {
        "91fb57aca4924dab8ad4fe7767d62db5": {
          "model_module": "@jupyter-widgets/controls",
          "model_name": "HBoxModel",
          "model_module_version": "1.5.0",
          "state": {
            "_dom_classes": [],
            "_model_module": "@jupyter-widgets/controls",
            "_model_module_version": "1.5.0",
            "_model_name": "HBoxModel",
            "_view_count": null,
            "_view_module": "@jupyter-widgets/controls",
            "_view_module_version": "1.5.0",
            "_view_name": "HBoxView",
            "box_style": "",
            "children": [
              "IPY_MODEL_9c99d3cb6f5b4578b9a871882685b05b",
              "IPY_MODEL_9690028af65141f594abbfb5a1f6af93",
              "IPY_MODEL_b4a6e97fdfd8421e8a000c1bfcbaed1d"
            ],
            "layout": "IPY_MODEL_4d9bdf5d441d43828dd689fe6d42dec5"
          }
        },
        "9c99d3cb6f5b4578b9a871882685b05b": {
          "model_module": "@jupyter-widgets/controls",
          "model_name": "HTMLModel",
          "model_module_version": "1.5.0",
          "state": {
            "_dom_classes": [],
            "_model_module": "@jupyter-widgets/controls",
            "_model_module_version": "1.5.0",
            "_model_name": "HTMLModel",
            "_view_count": null,
            "_view_module": "@jupyter-widgets/controls",
            "_view_module_version": "1.5.0",
            "_view_name": "HTMLView",
            "description": "",
            "description_tooltip": null,
            "layout": "IPY_MODEL_b276f7f4455f4f02af267c2b43f49245",
            "placeholder": "​",
            "style": "IPY_MODEL_4c4c598cee104131af15d9df47e5748d",
            "value": "Loading checkpoint shards: 100%"
          }
        },
        "9690028af65141f594abbfb5a1f6af93": {
          "model_module": "@jupyter-widgets/controls",
          "model_name": "FloatProgressModel",
          "model_module_version": "1.5.0",
          "state": {
            "_dom_classes": [],
            "_model_module": "@jupyter-widgets/controls",
            "_model_module_version": "1.5.0",
            "_model_name": "FloatProgressModel",
            "_view_count": null,
            "_view_module": "@jupyter-widgets/controls",
            "_view_module_version": "1.5.0",
            "_view_name": "ProgressView",
            "bar_style": "success",
            "description": "",
            "description_tooltip": null,
            "layout": "IPY_MODEL_f3b16cf127854faab2ac91fea7970a22",
            "max": 8,
            "min": 0,
            "orientation": "horizontal",
            "style": "IPY_MODEL_49b39fb233ba490fb70f2b07c271b71a",
            "value": 8
          }
        },
        "b4a6e97fdfd8421e8a000c1bfcbaed1d": {
          "model_module": "@jupyter-widgets/controls",
          "model_name": "HTMLModel",
          "model_module_version": "1.5.0",
          "state": {
            "_dom_classes": [],
            "_model_module": "@jupyter-widgets/controls",
            "_model_module_version": "1.5.0",
            "_model_name": "HTMLModel",
            "_view_count": null,
            "_view_module": "@jupyter-widgets/controls",
            "_view_module_version": "1.5.0",
            "_view_name": "HTMLView",
            "description": "",
            "description_tooltip": null,
            "layout": "IPY_MODEL_18adc073c58a465ba76657e6ed57a68b",
            "placeholder": "​",
            "style": "IPY_MODEL_2d4c5ccb165840ab8020f642bcc2c2ad",
            "value": " 8/8 [01:19&lt;00:00,  9.05s/it]"
          }
        },
        "4d9bdf5d441d43828dd689fe6d42dec5": {
          "model_module": "@jupyter-widgets/base",
          "model_name": "LayoutModel",
          "model_module_version": "1.2.0",
          "state": {
            "_model_module": "@jupyter-widgets/base",
            "_model_module_version": "1.2.0",
            "_model_name": "LayoutModel",
            "_view_count": null,
            "_view_module": "@jupyter-widgets/base",
            "_view_module_version": "1.2.0",
            "_view_name": "LayoutView",
            "align_content": null,
            "align_items": null,
            "align_self": null,
            "border": null,
            "bottom": null,
            "display": null,
            "flex": null,
            "flex_flow": null,
            "grid_area": null,
            "grid_auto_columns": null,
            "grid_auto_flow": null,
            "grid_auto_rows": null,
            "grid_column": null,
            "grid_gap": null,
            "grid_row": null,
            "grid_template_areas": null,
            "grid_template_columns": null,
            "grid_template_rows": null,
            "height": null,
            "justify_content": null,
            "justify_items": null,
            "left": null,
            "margin": null,
            "max_height": null,
            "max_width": null,
            "min_height": null,
            "min_width": null,
            "object_fit": null,
            "object_position": null,
            "order": null,
            "overflow": null,
            "overflow_x": null,
            "overflow_y": null,
            "padding": null,
            "right": null,
            "top": null,
            "visibility": null,
            "width": null
          }
        },
        "b276f7f4455f4f02af267c2b43f49245": {
          "model_module": "@jupyter-widgets/base",
          "model_name": "LayoutModel",
          "model_module_version": "1.2.0",
          "state": {
            "_model_module": "@jupyter-widgets/base",
            "_model_module_version": "1.2.0",
            "_model_name": "LayoutModel",
            "_view_count": null,
            "_view_module": "@jupyter-widgets/base",
            "_view_module_version": "1.2.0",
            "_view_name": "LayoutView",
            "align_content": null,
            "align_items": null,
            "align_self": null,
            "border": null,
            "bottom": null,
            "display": null,
            "flex": null,
            "flex_flow": null,
            "grid_area": null,
            "grid_auto_columns": null,
            "grid_auto_flow": null,
            "grid_auto_rows": null,
            "grid_column": null,
            "grid_gap": null,
            "grid_row": null,
            "grid_template_areas": null,
            "grid_template_columns": null,
            "grid_template_rows": null,
            "height": null,
            "justify_content": null,
            "justify_items": null,
            "left": null,
            "margin": null,
            "max_height": null,
            "max_width": null,
            "min_height": null,
            "min_width": null,
            "object_fit": null,
            "object_position": null,
            "order": null,
            "overflow": null,
            "overflow_x": null,
            "overflow_y": null,
            "padding": null,
            "right": null,
            "top": null,
            "visibility": null,
            "width": null
          }
        },
        "4c4c598cee104131af15d9df47e5748d": {
          "model_module": "@jupyter-widgets/controls",
          "model_name": "DescriptionStyleModel",
          "model_module_version": "1.5.0",
          "state": {
            "_model_module": "@jupyter-widgets/controls",
            "_model_module_version": "1.5.0",
            "_model_name": "DescriptionStyleModel",
            "_view_count": null,
            "_view_module": "@jupyter-widgets/base",
            "_view_module_version": "1.2.0",
            "_view_name": "StyleView",
            "description_width": ""
          }
        },
        "f3b16cf127854faab2ac91fea7970a22": {
          "model_module": "@jupyter-widgets/base",
          "model_name": "LayoutModel",
          "model_module_version": "1.2.0",
          "state": {
            "_model_module": "@jupyter-widgets/base",
            "_model_module_version": "1.2.0",
            "_model_name": "LayoutModel",
            "_view_count": null,
            "_view_module": "@jupyter-widgets/base",
            "_view_module_version": "1.2.0",
            "_view_name": "LayoutView",
            "align_content": null,
            "align_items": null,
            "align_self": null,
            "border": null,
            "bottom": null,
            "display": null,
            "flex": null,
            "flex_flow": null,
            "grid_area": null,
            "grid_auto_columns": null,
            "grid_auto_flow": null,
            "grid_auto_rows": null,
            "grid_column": null,
            "grid_gap": null,
            "grid_row": null,
            "grid_template_areas": null,
            "grid_template_columns": null,
            "grid_template_rows": null,
            "height": null,
            "justify_content": null,
            "justify_items": null,
            "left": null,
            "margin": null,
            "max_height": null,
            "max_width": null,
            "min_height": null,
            "min_width": null,
            "object_fit": null,
            "object_position": null,
            "order": null,
            "overflow": null,
            "overflow_x": null,
            "overflow_y": null,
            "padding": null,
            "right": null,
            "top": null,
            "visibility": null,
            "width": null
          }
        },
        "49b39fb233ba490fb70f2b07c271b71a": {
          "model_module": "@jupyter-widgets/controls",
          "model_name": "ProgressStyleModel",
          "model_module_version": "1.5.0",
          "state": {
            "_model_module": "@jupyter-widgets/controls",
            "_model_module_version": "1.5.0",
            "_model_name": "ProgressStyleModel",
            "_view_count": null,
            "_view_module": "@jupyter-widgets/base",
            "_view_module_version": "1.2.0",
            "_view_name": "StyleView",
            "bar_color": null,
            "description_width": ""
          }
        },
        "18adc073c58a465ba76657e6ed57a68b": {
          "model_module": "@jupyter-widgets/base",
          "model_name": "LayoutModel",
          "model_module_version": "1.2.0",
          "state": {
            "_model_module": "@jupyter-widgets/base",
            "_model_module_version": "1.2.0",
            "_model_name": "LayoutModel",
            "_view_count": null,
            "_view_module": "@jupyter-widgets/base",
            "_view_module_version": "1.2.0",
            "_view_name": "LayoutView",
            "align_content": null,
            "align_items": null,
            "align_self": null,
            "border": null,
            "bottom": null,
            "display": null,
            "flex": null,
            "flex_flow": null,
            "grid_area": null,
            "grid_auto_columns": null,
            "grid_auto_flow": null,
            "grid_auto_rows": null,
            "grid_column": null,
            "grid_gap": null,
            "grid_row": null,
            "grid_template_areas": null,
            "grid_template_columns": null,
            "grid_template_rows": null,
            "height": null,
            "justify_content": null,
            "justify_items": null,
            "left": null,
            "margin": null,
            "max_height": null,
            "max_width": null,
            "min_height": null,
            "min_width": null,
            "object_fit": null,
            "object_position": null,
            "order": null,
            "overflow": null,
            "overflow_x": null,
            "overflow_y": null,
            "padding": null,
            "right": null,
            "top": null,
            "visibility": null,
            "width": null
          }
        },
        "2d4c5ccb165840ab8020f642bcc2c2ad": {
          "model_module": "@jupyter-widgets/controls",
          "model_name": "DescriptionStyleModel",
          "model_module_version": "1.5.0",
          "state": {
            "_model_module": "@jupyter-widgets/controls",
            "_model_module_version": "1.5.0",
            "_model_name": "DescriptionStyleModel",
            "_view_count": null,
            "_view_module": "@jupyter-widgets/base",
            "_view_module_version": "1.2.0",
            "_view_name": "StyleView",
            "description_width": ""
          }
        }
      }
    }
  },
  "nbformat": 4,
  "nbformat_minor": 0
}